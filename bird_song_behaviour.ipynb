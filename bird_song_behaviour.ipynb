{
 "cells": [
  {
   "cell_type": "code",
   "execution_count": null,
   "metadata": {},
   "outputs": [],
   "source": [
    "import pandas as pd\n",
    "import numpy as np\n",
    "import matplotlib.pyplot as plt\n",
    "import seaborn as sns\n",
    "import json\n",
    "import requests\n",
    "import csv\n",
    "import urllib.request\n",
    "%matplotlib inline"
   ]
  },
  {
   "cell_type": "code",
   "execution_count": null,
   "metadata": {},
   "outputs": [],
   "source": [
    "from urllib.request import urlopen\n",
    "from bs4 import BeautifulSoup"
   ]
  },
  {
   "cell_type": "code",
   "execution_count": null,
   "metadata": {},
   "outputs": [],
   "source": [
    "# Generate csv file from xeno-canto API\n",
    "\n",
    "# specify url\n",
    "web_url = \"https://xeno-canto.org/api/2/recordings?query=sp&field=species/all?area=africa\"\n",
    "html = urlopen(web_url)"
   ]
  },
  {
   "cell_type": "code",
   "execution_count": null,
   "metadata": {},
   "outputs": [],
   "source": [
    "soup = BeautifulSoup(html, 'html.parser')\n",
    "type(soup)"
   ]
  },
  {
   "cell_type": "code",
   "execution_count": null,
   "metadata": {},
   "outputs": [],
   "source": [
    "# Print out the text\n",
    "text = soup.get_text()\n",
    "print(text)"
   ]
  },
  {
   "cell_type": "code",
   "execution_count": null,
   "metadata": {},
   "outputs": [],
   "source": [
    "# convert to dataframe\n",
    "df = pd.DataFrame(parsed_json['recordings'])\n",
    "df.head()\n"
   ]
  },
  {
   "cell_type": "code",
   "execution_count": null,
   "metadata": {},
   "outputs": [],
   "source": [
    "# generate csv file from the json data\n",
    "df.columns"
   ]
  },
  {
   "cell_type": "code",
   "execution_count": null,
   "metadata": {},
   "outputs": [],
   "source": [
    "# convert data frame into csv file\n",
    "df.to_csv('bird_song_dataset.csv', index=False)"
   ]
  },
  {
   "cell_type": "code",
   "execution_count": null,
   "metadata": {},
   "outputs": [],
   "source": [
    "# extract bird songs from the website\n",
    "url = \"https://xeno-canto.org/api/2/recordings?query=sp&field=species/all?area=africa\"\n",
    "response = requests.get(url)\n",
    "\n",
    "if response.status_code == 200:\n",
    "    data = response.json()\n",
    "    if \"recordings\" in data:\n",
    "        species_list = list({recording[\"sp\"] for recording in data[\"recordings\"]})\n",
    "\n",
    "        # Specify the file path for the CSV file\n",
    "        csv_file_path = \"species_list.csv\"\n",
    "\n",
    "        # Write the species_list to the CSV file\n",
    "        with open(csv_file_path, \"w\", newline=\"\", encoding=\"utf-8\") as csvfile:\n",
    "            writer = csv.writer(csvfile)\n",
    "            writer.writerow([\"Species\"])  # Write header row\n",
    "            writer.writerows([[species] for species in species_list])  # Write species names row by row\n",
    "\n",
    "        print(\"Data saved to CSV file successfully.\")\n",
    "else:\n",
    "    print(\"Error: Unable to fetch data from the API.\")"
   ]
  },
  {
   "cell_type": "code",
   "execution_count": null,
   "metadata": {},
   "outputs": [],
   "source": [
    "df = pd.read_csv('species_list.csv')\n",
    "df.head()"
   ]
  },
  {
   "cell_type": "code",
   "execution_count": null,
   "metadata": {},
   "outputs": [],
   "source": [
    "import os\n",
    "import requests\n",
    "import urllib.request\n",
    "\n",
    "# Xeno-Canto API endpoint for bird songs\n",
    "api_url = \"https://xeno-canto.org/api/2/recordings?query=sp&field=species/all?area=africa\"\n",
    "\n",
    "def download_audio(url, file_path):\n",
    "    \"\"\"Download audio file from the given URL and save it to the specified file path.\"\"\"\n",
    "    try:\n",
    "        urllib.request.urlretrieve(url, file_path)\n",
    "        print(f\"Audio file saved: {file_path}\")\n",
    "    except Exception as e:\n",
    "        print(f\"Error downloading audio: {e}\")\n",
    "\n",
    "def extract\n",
    "    try:\n",
    "        response = requests.get(api_url)\n",
    "        if response.status_code == 200:\n",
    "            data = response.json()\n",
    "\n",
    "            # Create a main folder to store species subdirectories\n",
    "            main_folder = \"bird_species_audio\"\n",
    "            if not os.path.exists(main_folder):\n",
    "                os.makedirs(main_folder)\n",
    "\n",
    "            for recording in data[\"recordings\"]:\n",
    "                # Extract relevant information from the recording\n",
    "                species = recording[\"en\"].replace(\"/\", \"-\")  # Replace '/' with '-' to avoid issues with subdirectories\n",
    "                audio_url = recording[\"file\"]\n",
    "                folder_name = os.path.join(main_folder, species)\n",
    "\n",
    "                # Create a subdirectory for the species (if it doesn't exist)\n",
    "                if not os.path.exists(folder_name):\n",
    "                    os.makedirs(folder_name)\n",
    "\n",
    "                # Generate a unique filename using the recording ID\n",
    "                recording_id = recording[\"id\"]\n",
    "                file_name = f\"{species}_{recording_id}.mp3\"\n",
    "                file_path = os.path.join(folder_name, file_name)  # Save the audio with the unique filename in the species folder\n",
    "\n",
    "                # Download the audio file\n",
    "                download_audio(audio_url, file_path)\n",
    "\n",
    "        else:\n",
    "            print(f\"Error fetching data from Xeno-Canto API. Status code: {response.status_code}\")\n",
    "    except Exception as e:\n",
    "        print(f\"Error extracting bird songs: {e}\")\n",
    "\n",
    "if __name__ == \"__main__\":\n",
    "    extract_bird_songs(api_url)\n"
   ]
  },
  {
   "cell_type": "code",
   "execution_count": null,
   "metadata": {},
   "outputs": [],
   "source": []
  }
 ],
 "metadata": {
  "language_info": {
   "name": "python"
  },
  "orig_nbformat": 4
 },
 "nbformat": 4,
 "nbformat_minor": 2
}
