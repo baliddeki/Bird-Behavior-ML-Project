
 "cells": [
  {
   "cell_type": "code",
   "execution_count": 1,
   "metadata": {},
   "outputs": [],
   "source": [
    "import pandas as pd\n",
    "import numpy as np\n",
    "import matplotlib.pyplot as plt\n",
    "import seaborn as sns\n",
    "import json\n",
    "import requests\n",
    "import csv\n",
    "import urllib.request\n",
    "%matplotlib inline\n",
    "\n",
    "import os\n"
   ]
  },
  {
   "cell_type": "code",
   "execution_count": null,
   "metadata": {},
   "outputs": [],
   "source": [
    "from urllib.request import urlopen\n",
    "from bs4 import BeautifulSoup"
   ]
  },
  {
   "cell_type": "code",
   "execution_count": null,
   "metadata": {},
   "outputs": [],
   "source": [
    "# Generate csv file from xeno-canto API\n",
    "\n",
    "# specify url\n",
    "web_url = \"https://xeno-canto.org/api/2/recordings?query=sp&field=species/all\"\n",
    "html = urlopen(web_url)"
   ]
  },
  {
   "cell_type": "code",
   "execution_count": null,
   "metadata": {},
   "outputs": [],
   "source": [
    "soup = BeautifulSoup(html, 'html.parser')\n",
    "type(soup)"
   ]
  },
  {
   "cell_type": "code",
   "execution_count": null,
   "metadata": {},
   "outputs": [],
   "source": [
    "# Print out the text\n",
    "text = soup.get_text()\n",
    "print(text)"
   ]
  },
  {
   "cell_type": "code",
   "execution_count": null,
   "metadata": {},
   "outputs": [],
   "source": [
    "# convert to dataframe\n",
    "parsed_json = json.loads(text)\n",
    "\n",
    "# Create DataFrame from the 'recordings' key of the parsed JSON dictionary\n",
    "df = pd.DataFrame(parsed_json['recordings'])\n",
    "df.head()"
   ]
  },
  {
   "cell_type": "code",
   "execution_count": null,
   "metadata": {},
   "outputs": [],
   "source": [
    "# generate csv file from the json data\n",
    "df.describe()"
   ]
  },
  {
   "cell_type": "code",
   "execution_count": null,
   "metadata": {},
   "outputs": [],
   "source": [
    "# convert data frame into csv file\n",
    "df.to_csv('bird_song_dataset.csv', index=False)"
   ]
  },
  {
   "cell_type": "code",
   "execution_count": null,
   "metadata": {},
   "outputs": [],
   "source": [
    "# extract bird songs from the website\n",
    "url = \"https://xeno-canto.org/api/2/recordings?query=sp&field=species/all\"\n",
    "response = requests.get(url)\n",
    "\n",
    "if response.status_code == 200:\n",
    "    data = response.json()\n",
    "    if \"recordings\" in data:\n",
    "        species_list = list({recording[\"sp\"] for recording in data[\"recordings\"]})\n",
    "\n",
    "        # Specify the file path for the CSV file\n",
    "        csv_file_path = \"species_list.csv\"\n",
    "\n",
    "        # Write the species_list to the CSV file\n",
    "        with open(csv_file_path, \"w\", newline=\"\", encoding=\"utf-8\") as csvfile:\n",
    "            writer = csv.writer(csvfile)\n",
    "            writer.writerow([\"Species\"])  # Write header row\n",
    "            writer.writerows([[species] for species in species_list])  # Write species names row by row\n",
    "\n",
    "        print(\"Data saved to CSV file successfully.\")\n",
    "else:\n",
    "    print(\"Error: Unable to fetch data from the API.\")"
   ]
  },
  {
   "cell_type": "code",
   "execution_count": null,
   "metadata": {},
   "outputs": [],
   "source": [
    "import os\n",
    "import requests\n",
    "import urllib.request\n",
    "\n",
    "# Xeno-Canto API endpoint for bird songs\n",
    "api_url = \"https://xeno-canto.org/api/2/recordings?query=sp&field=species/all?\"\n",
    "\n",
    "def download_audio(url, file_path):\n",
    "    \"\"\"Download audio file from the given URL and save it to the specified file path.\"\"\"\n",
    "    try:\n",
    "        urllib.request.urlretrieve(url, file_path)\n",
    "        print(f\"Audio file saved: {file_path}\")\n",
    "    except Exception as e:\n",
    "        print(f\"Error downloading audio: {e}\")\n",
    "\n",
    "def extract_bird_songs(api_url):\n",
    "    try:\n",
    "        response = requests.get(api_url)\n",
    "        if response.status_code == 200:\n",
    "            data = response.json()\n",
    "\n",
    "            # Create main folder to store audio files\n",
    "            main_folder = \"bird_sounds\"\n",
    "            if not os.path.exists(main_folder):\n",
    "                os.makedirs(main_folder)\n",
    "\n",
    "            for recording in data[\"recordings\"]:\n",
    "                # Extract relevant information from the recording\n",
    "                call_type = recording[\"type\"]\n",
    "\n",
    "                if \"alarm\" in call_type.lower():\n",
    "                    folder_name = \"alarm_calls\"\n",
    "                elif \"duet\" in call_type.lower():\n",
    "                    folder_name = \"duet_calls\"\n",
    "                else:\n",
    "                    folder_name = \"other_calls\"\n",
    "\n",
    "                # Create a subdirectory for the call type (if it doesn't exist)\n",
    "                type_folder = os.path.join(main_folder, folder_name)\n",
    "                if not os.path.exists(type_folder):\n",
    "                    os.makedirs(type_folder)\n",
    "\n",
    "                # Generate a unique filename using the recording ID\n",
    "                recording_id = recording[\"id\"]\n",
    "                file_name = f\"{recording_id}.mp3\"\n",
    "                file_path = os.path.join(type_folder, file_name)  # Save the audio with the unique filename in the type folder\n",
    "\n",
    "                # Download the audio file\n",
    "                download_audio(recording[\"file\"], file_path)\n",
    "\n",
    "        else:\n",
    "            print(f\"Error fetching data from Xeno-Canto API. Status code: {response.status_code}\")\n",
    "    except Exception as e:\n",
    "        print(f\"Error extracting bird songs: {e}\")\n",
    "\n",
    "if __name__ == \"__main__\":\n",
    "    extract_bird_songs(api_url)\n"
   ]
  },
  {
   "cell_type": "code",
   "execution_count": null,
   "metadata": {},
   "outputs": [],
   "source": []
  }
 ],
 "metadata": {
  "kernelspec": {
   "display_name": "Python 3 (ipykernel)",
   "language": "python",
   "name": "python3"
  },
  "language_info": {
   "codemirror_mode": {
    "name": "ipython",
    "version": 3
   },
   "file_extension": ".py",
   "mimetype": "text/x-python",
   "name": "python",
   "nbconvert_exporter": "python",
   "pygments_lexer": "ipython3",
   "version": "3.10.9"
  }
 },
 "nbformat": 4,
 "nbformat_minor": 4
}
