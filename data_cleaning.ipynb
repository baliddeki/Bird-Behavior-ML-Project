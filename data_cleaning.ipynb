{
 "cells": [
  {
   "cell_type": "code",
   "execution_count": null,
   "metadata": {},
   "outputs": [],
   "source": [
    "    "
   ]
  },
  {
   "cell_type": "code",
   "execution_count": 1,
   "metadata": {},
   "outputs": [],
   "source": [
    "import pandas as pd\n",
    "import numpy as np\n",
    "import matplotlib.pyplot as plt\n",
    "import seaborn as sns\n",
    "import json\n",
    "import requests\n",
    "import csv\n",
    "import urllib.request\n",
    "%matplotlib inline\n",
    "\n",
    "import librosa\n",
    "import numpy as np\n",
    "import os\n",
    "import librosa.display\n",
    "import seaborn as sns\n",
    "\n",
    "import IPython.display as ipd"
   ]
  },
  {
   "cell_type": "code",
   "execution_count": 2,
   "metadata": {},
   "outputs": [
    {
     "data": {
      "text/html": [
       "<div>\n",
       "<style scoped>\n",
       "    .dataframe tbody tr th:only-of-type {\n",
       "        vertical-align: middle;\n",
       "    }\n",
       "\n",
       "    .dataframe tbody tr th {\n",
       "        vertical-align: top;\n",
       "    }\n",
       "\n",
       "    .dataframe thead th {\n",
       "        text-align: right;\n",
       "    }\n",
       "</style>\n",
       "<table border=\"1\" class=\"dataframe\">\n",
       "  <thead>\n",
       "    <tr style=\"text-align: right;\">\n",
       "      <th></th>\n",
       "      <th>id</th>\n",
       "      <th>gen</th>\n",
       "      <th>sp</th>\n",
       "      <th>ssp</th>\n",
       "      <th>group</th>\n",
       "      <th>en</th>\n",
       "      <th>rec</th>\n",
       "      <th>cnt</th>\n",
       "      <th>loc</th>\n",
       "      <th>lat</th>\n",
       "      <th>...</th>\n",
       "      <th>rmk</th>\n",
       "      <th>bird-seen</th>\n",
       "      <th>animal-seen</th>\n",
       "      <th>playback-used</th>\n",
       "      <th>temp</th>\n",
       "      <th>regnr</th>\n",
       "      <th>auto</th>\n",
       "      <th>dvc</th>\n",
       "      <th>mic</th>\n",
       "      <th>smp</th>\n",
       "    </tr>\n",
       "  </thead>\n",
       "  <tbody>\n",
       "    <tr>\n",
       "      <th>0</th>\n",
       "      <td>36065</td>\n",
       "      <td>Synallaxis</td>\n",
       "      <td>chinchipensis</td>\n",
       "      <td>NaN</td>\n",
       "      <td>birds</td>\n",
       "      <td>Chinchipe Spinetail</td>\n",
       "      <td>Frank Lambert</td>\n",
       "      <td>Peru</td>\n",
       "      <td>between Jaen and San Ignacio</td>\n",
       "      <td>NaN</td>\n",
       "      <td>...</td>\n",
       "      <td>This taxon is more usually called Chinchipe Sp...</td>\n",
       "      <td>unknown</td>\n",
       "      <td>unknown</td>\n",
       "      <td>unknown</td>\n",
       "      <td>NaN</td>\n",
       "      <td>NaN</td>\n",
       "      <td>no</td>\n",
       "      <td>NaN</td>\n",
       "      <td>NaN</td>\n",
       "      <td>44100</td>\n",
       "    </tr>\n",
       "    <tr>\n",
       "      <th>1</th>\n",
       "      <td>692727</td>\n",
       "      <td>Arremon</td>\n",
       "      <td>dorbignii</td>\n",
       "      <td>NaN</td>\n",
       "      <td>birds</td>\n",
       "      <td>Moss-backed Sparrow</td>\n",
       "      <td>Jacob Wijpkema</td>\n",
       "      <td>Bolivia</td>\n",
       "      <td>Franz Tamayo, La Paz Department</td>\n",
       "      <td>-14.41850</td>\n",
       "      <td>...</td>\n",
       "      <td>In Bolivia this is now called \"Moss-backed Spa...</td>\n",
       "      <td>yes</td>\n",
       "      <td>yes</td>\n",
       "      <td>no</td>\n",
       "      <td>NaN</td>\n",
       "      <td>NaN</td>\n",
       "      <td>no</td>\n",
       "      <td>NaN</td>\n",
       "      <td>NaN</td>\n",
       "      <td>44100</td>\n",
       "    </tr>\n",
       "    <tr>\n",
       "      <th>2</th>\n",
       "      <td>296852</td>\n",
       "      <td>Synallaxis</td>\n",
       "      <td>chinchipensis</td>\n",
       "      <td>NaN</td>\n",
       "      <td>birds</td>\n",
       "      <td>Chinchipe Spinetail</td>\n",
       "      <td>Ross Gallardy</td>\n",
       "      <td>Peru</td>\n",
       "      <td>San Ignacio, Cajamarca</td>\n",
       "      <td>-5.49810</td>\n",
       "      <td>...</td>\n",
       "      <td>NaN</td>\n",
       "      <td>yes</td>\n",
       "      <td>yes</td>\n",
       "      <td>yes</td>\n",
       "      <td>NaN</td>\n",
       "      <td>NaN</td>\n",
       "      <td>no</td>\n",
       "      <td>NaN</td>\n",
       "      <td>NaN</td>\n",
       "      <td>44100</td>\n",
       "    </tr>\n",
       "    <tr>\n",
       "      <th>3</th>\n",
       "      <td>296851</td>\n",
       "      <td>Synallaxis</td>\n",
       "      <td>chinchipensis</td>\n",
       "      <td>NaN</td>\n",
       "      <td>birds</td>\n",
       "      <td>Chinchipe Spinetail</td>\n",
       "      <td>Ross Gallardy</td>\n",
       "      <td>Peru</td>\n",
       "      <td>San Ignacio, Cajamarca</td>\n",
       "      <td>-5.49810</td>\n",
       "      <td>...</td>\n",
       "      <td>NaN</td>\n",
       "      <td>yes</td>\n",
       "      <td>yes</td>\n",
       "      <td>yes</td>\n",
       "      <td>NaN</td>\n",
       "      <td>NaN</td>\n",
       "      <td>no</td>\n",
       "      <td>NaN</td>\n",
       "      <td>NaN</td>\n",
       "      <td>44100</td>\n",
       "    </tr>\n",
       "    <tr>\n",
       "      <th>4</th>\n",
       "      <td>27768</td>\n",
       "      <td>Synallaxis</td>\n",
       "      <td>chinchipensis</td>\n",
       "      <td>NaN</td>\n",
       "      <td>birds</td>\n",
       "      <td>Chinchipe Spinetail</td>\n",
       "      <td>David Edwards</td>\n",
       "      <td>Peru</td>\n",
       "      <td>Chirinos</td>\n",
       "      <td>-5.24667</td>\n",
       "      <td>...</td>\n",
       "      <td>NaN</td>\n",
       "      <td>unknown</td>\n",
       "      <td>unknown</td>\n",
       "      <td>unknown</td>\n",
       "      <td>NaN</td>\n",
       "      <td>NaN</td>\n",
       "      <td>no</td>\n",
       "      <td>NaN</td>\n",
       "      <td>NaN</td>\n",
       "      <td>44100</td>\n",
       "    </tr>\n",
       "  </tbody>\n",
       "</table>\n",
       "<p>5 rows × 38 columns</p>\n",
       "</div>"
      ],
      "text/plain": [
       "       id         gen             sp  ssp  group                   en  \\\n",
       "0   36065  Synallaxis  chinchipensis  NaN  birds  Chinchipe Spinetail   \n",
       "1  692727     Arremon      dorbignii  NaN  birds  Moss-backed Sparrow   \n",
       "2  296852  Synallaxis  chinchipensis  NaN  birds  Chinchipe Spinetail   \n",
       "3  296851  Synallaxis  chinchipensis  NaN  birds  Chinchipe Spinetail   \n",
       "4   27768  Synallaxis  chinchipensis  NaN  birds  Chinchipe Spinetail   \n",
       "\n",
       "              rec      cnt                              loc       lat  ...  \\\n",
       "0   Frank Lambert     Peru     between Jaen and San Ignacio       NaN  ...   \n",
       "1  Jacob Wijpkema  Bolivia  Franz Tamayo, La Paz Department -14.41850  ...   \n",
       "2   Ross Gallardy     Peru           San Ignacio, Cajamarca  -5.49810  ...   \n",
       "3   Ross Gallardy     Peru           San Ignacio, Cajamarca  -5.49810  ...   \n",
       "4   David Edwards     Peru                         Chirinos  -5.24667  ...   \n",
       "\n",
       "                                                 rmk bird-seen animal-seen  \\\n",
       "0  This taxon is more usually called Chinchipe Sp...   unknown     unknown   \n",
       "1  In Bolivia this is now called \"Moss-backed Spa...       yes         yes   \n",
       "2                                                NaN       yes         yes   \n",
       "3                                                NaN       yes         yes   \n",
       "4                                                NaN   unknown     unknown   \n",
       "\n",
       "  playback-used temp regnr auto  dvc  mic    smp  \n",
       "0       unknown  NaN   NaN   no  NaN  NaN  44100  \n",
       "1            no  NaN   NaN   no  NaN  NaN  44100  \n",
       "2           yes  NaN   NaN   no  NaN  NaN  44100  \n",
       "3           yes  NaN   NaN   no  NaN  NaN  44100  \n",
       "4       unknown  NaN   NaN   no  NaN  NaN  44100  \n",
       "\n",
       "[5 rows x 38 columns]"
      ]
     },
     "execution_count": 2,
     "metadata": {},
     "output_type": "execute_result"
    }
   ],
   "source": [
    "# Opening dataset\n",
    "\n",
    "df = pd.read_csv('bird_song_dataset.csv')\n",
    "df.head()"
   ]
  },
  {
   "cell_type": "markdown",
   "metadata": {},
   "source": [
    "* Performing Data Analysis"
   ]
  },
  {
   "cell_type": "code",
   "execution_count": 3,
   "metadata": {},
   "outputs": [
    {
     "data": {
      "text/html": [
       "<div>\n",
       "<style scoped>\n",
       "    .dataframe tbody tr th:only-of-type {\n",
       "        vertical-align: middle;\n",
       "    }\n",
       "\n",
       "    .dataframe tbody tr th {\n",
       "        vertical-align: top;\n",
       "    }\n",
       "\n",
       "    .dataframe thead th {\n",
       "        text-align: right;\n",
       "    }\n",
       "</style>\n",
       "<table border=\"1\" class=\"dataframe\">\n",
       "  <thead>\n",
       "    <tr style=\"text-align: right;\">\n",
       "      <th></th>\n",
       "      <th>id</th>\n",
       "      <th>gen</th>\n",
       "      <th>sp</th>\n",
       "      <th>ssp</th>\n",
       "      <th>group</th>\n",
       "      <th>en</th>\n",
       "      <th>rec</th>\n",
       "      <th>cnt</th>\n",
       "      <th>loc</th>\n",
       "      <th>lat</th>\n",
       "      <th>...</th>\n",
       "      <th>rmk</th>\n",
       "      <th>bird-seen</th>\n",
       "      <th>animal-seen</th>\n",
       "      <th>playback-used</th>\n",
       "      <th>temp</th>\n",
       "      <th>regnr</th>\n",
       "      <th>auto</th>\n",
       "      <th>dvc</th>\n",
       "      <th>mic</th>\n",
       "      <th>smp</th>\n",
       "    </tr>\n",
       "  </thead>\n",
       "  <tbody>\n",
       "    <tr>\n",
       "      <th>0</th>\n",
       "      <td>False</td>\n",
       "      <td>False</td>\n",
       "      <td>False</td>\n",
       "      <td>True</td>\n",
       "      <td>False</td>\n",
       "      <td>False</td>\n",
       "      <td>False</td>\n",
       "      <td>False</td>\n",
       "      <td>False</td>\n",
       "      <td>True</td>\n",
       "      <td>...</td>\n",
       "      <td>False</td>\n",
       "      <td>False</td>\n",
       "      <td>False</td>\n",
       "      <td>False</td>\n",
       "      <td>True</td>\n",
       "      <td>True</td>\n",
       "      <td>False</td>\n",
       "      <td>True</td>\n",
       "      <td>True</td>\n",
       "      <td>False</td>\n",
       "    </tr>\n",
       "    <tr>\n",
       "      <th>1</th>\n",
       "      <td>False</td>\n",
       "      <td>False</td>\n",
       "      <td>False</td>\n",
       "      <td>True</td>\n",
       "      <td>False</td>\n",
       "      <td>False</td>\n",
       "      <td>False</td>\n",
       "      <td>False</td>\n",
       "      <td>False</td>\n",
       "      <td>False</td>\n",
       "      <td>...</td>\n",
       "      <td>False</td>\n",
       "      <td>False</td>\n",
       "      <td>False</td>\n",
       "      <td>False</td>\n",
       "      <td>True</td>\n",
       "      <td>True</td>\n",
       "      <td>False</td>\n",
       "      <td>True</td>\n",
       "      <td>True</td>\n",
       "      <td>False</td>\n",
       "    </tr>\n",
       "    <tr>\n",
       "      <th>2</th>\n",
       "      <td>False</td>\n",
       "      <td>False</td>\n",
       "      <td>False</td>\n",
       "      <td>True</td>\n",
       "      <td>False</td>\n",
       "      <td>False</td>\n",
       "      <td>False</td>\n",
       "      <td>False</td>\n",
       "      <td>False</td>\n",
       "      <td>False</td>\n",
       "      <td>...</td>\n",
       "      <td>True</td>\n",
       "      <td>False</td>\n",
       "      <td>False</td>\n",
       "      <td>False</td>\n",
       "      <td>True</td>\n",
       "      <td>True</td>\n",
       "      <td>False</td>\n",
       "      <td>True</td>\n",
       "      <td>True</td>\n",
       "      <td>False</td>\n",
       "    </tr>\n",
       "    <tr>\n",
       "      <th>3</th>\n",
       "      <td>False</td>\n",
       "      <td>False</td>\n",
       "      <td>False</td>\n",
       "      <td>True</td>\n",
       "      <td>False</td>\n",
       "      <td>False</td>\n",
       "      <td>False</td>\n",
       "      <td>False</td>\n",
       "      <td>False</td>\n",
       "      <td>False</td>\n",
       "      <td>...</td>\n",
       "      <td>True</td>\n",
       "      <td>False</td>\n",
       "      <td>False</td>\n",
       "      <td>False</td>\n",
       "      <td>True</td>\n",
       "      <td>True</td>\n",
       "      <td>False</td>\n",
       "      <td>True</td>\n",
       "      <td>True</td>\n",
       "      <td>False</td>\n",
       "    </tr>\n",
       "    <tr>\n",
       "      <th>4</th>\n",
       "      <td>False</td>\n",
       "      <td>False</td>\n",
       "      <td>False</td>\n",
       "      <td>True</td>\n",
       "      <td>False</td>\n",
       "      <td>False</td>\n",
       "      <td>False</td>\n",
       "      <td>False</td>\n",
       "      <td>False</td>\n",
       "      <td>False</td>\n",
       "      <td>...</td>\n",
       "      <td>True</td>\n",
       "      <td>False</td>\n",
       "      <td>False</td>\n",
       "      <td>False</td>\n",
       "      <td>True</td>\n",
       "      <td>True</td>\n",
       "      <td>False</td>\n",
       "      <td>True</td>\n",
       "      <td>True</td>\n",
       "      <td>False</td>\n",
       "    </tr>\n",
       "    <tr>\n",
       "      <th>...</th>\n",
       "      <td>...</td>\n",
       "      <td>...</td>\n",
       "      <td>...</td>\n",
       "      <td>...</td>\n",
       "      <td>...</td>\n",
       "      <td>...</td>\n",
       "      <td>...</td>\n",
       "      <td>...</td>\n",
       "      <td>...</td>\n",
       "      <td>...</td>\n",
       "      <td>...</td>\n",
       "      <td>...</td>\n",
       "      <td>...</td>\n",
       "      <td>...</td>\n",
       "      <td>...</td>\n",
       "      <td>...</td>\n",
       "      <td>...</td>\n",
       "      <td>...</td>\n",
       "      <td>...</td>\n",
       "      <td>...</td>\n",
       "      <td>...</td>\n",
       "    </tr>\n",
       "    <tr>\n",
       "      <th>495</th>\n",
       "      <td>False</td>\n",
       "      <td>False</td>\n",
       "      <td>False</td>\n",
       "      <td>True</td>\n",
       "      <td>False</td>\n",
       "      <td>False</td>\n",
       "      <td>False</td>\n",
       "      <td>False</td>\n",
       "      <td>False</td>\n",
       "      <td>False</td>\n",
       "      <td>...</td>\n",
       "      <td>False</td>\n",
       "      <td>False</td>\n",
       "      <td>False</td>\n",
       "      <td>False</td>\n",
       "      <td>True</td>\n",
       "      <td>True</td>\n",
       "      <td>False</td>\n",
       "      <td>True</td>\n",
       "      <td>True</td>\n",
       "      <td>False</td>\n",
       "    </tr>\n",
       "    <tr>\n",
       "      <th>496</th>\n",
       "      <td>False</td>\n",
       "      <td>False</td>\n",
       "      <td>False</td>\n",
       "      <td>True</td>\n",
       "      <td>False</td>\n",
       "      <td>False</td>\n",
       "      <td>False</td>\n",
       "      <td>False</td>\n",
       "      <td>False</td>\n",
       "      <td>False</td>\n",
       "      <td>...</td>\n",
       "      <td>True</td>\n",
       "      <td>False</td>\n",
       "      <td>False</td>\n",
       "      <td>False</td>\n",
       "      <td>True</td>\n",
       "      <td>True</td>\n",
       "      <td>False</td>\n",
       "      <td>True</td>\n",
       "      <td>True</td>\n",
       "      <td>False</td>\n",
       "    </tr>\n",
       "    <tr>\n",
       "      <th>497</th>\n",
       "      <td>False</td>\n",
       "      <td>False</td>\n",
       "      <td>False</td>\n",
       "      <td>True</td>\n",
       "      <td>False</td>\n",
       "      <td>False</td>\n",
       "      <td>False</td>\n",
       "      <td>False</td>\n",
       "      <td>False</td>\n",
       "      <td>False</td>\n",
       "      <td>...</td>\n",
       "      <td>True</td>\n",
       "      <td>False</td>\n",
       "      <td>False</td>\n",
       "      <td>False</td>\n",
       "      <td>True</td>\n",
       "      <td>True</td>\n",
       "      <td>False</td>\n",
       "      <td>True</td>\n",
       "      <td>True</td>\n",
       "      <td>False</td>\n",
       "    </tr>\n",
       "    <tr>\n",
       "      <th>498</th>\n",
       "      <td>False</td>\n",
       "      <td>False</td>\n",
       "      <td>False</td>\n",
       "      <td>True</td>\n",
       "      <td>False</td>\n",
       "      <td>False</td>\n",
       "      <td>False</td>\n",
       "      <td>False</td>\n",
       "      <td>False</td>\n",
       "      <td>False</td>\n",
       "      <td>...</td>\n",
       "      <td>True</td>\n",
       "      <td>False</td>\n",
       "      <td>False</td>\n",
       "      <td>False</td>\n",
       "      <td>True</td>\n",
       "      <td>True</td>\n",
       "      <td>False</td>\n",
       "      <td>True</td>\n",
       "      <td>True</td>\n",
       "      <td>False</td>\n",
       "    </tr>\n",
       "    <tr>\n",
       "      <th>499</th>\n",
       "      <td>False</td>\n",
       "      <td>False</td>\n",
       "      <td>False</td>\n",
       "      <td>True</td>\n",
       "      <td>False</td>\n",
       "      <td>False</td>\n",
       "      <td>False</td>\n",
       "      <td>False</td>\n",
       "      <td>False</td>\n",
       "      <td>False</td>\n",
       "      <td>...</td>\n",
       "      <td>False</td>\n",
       "      <td>False</td>\n",
       "      <td>False</td>\n",
       "      <td>False</td>\n",
       "      <td>True</td>\n",
       "      <td>True</td>\n",
       "      <td>False</td>\n",
       "      <td>True</td>\n",
       "      <td>True</td>\n",
       "      <td>False</td>\n",
       "    </tr>\n",
       "  </tbody>\n",
       "</table>\n",
       "<p>500 rows × 38 columns</p>\n",
       "</div>"
      ],
      "text/plain": [
       "        id    gen     sp   ssp  group     en    rec    cnt    loc    lat  ...  \\\n",
       "0    False  False  False  True  False  False  False  False  False   True  ...   \n",
       "1    False  False  False  True  False  False  False  False  False  False  ...   \n",
       "2    False  False  False  True  False  False  False  False  False  False  ...   \n",
       "3    False  False  False  True  False  False  False  False  False  False  ...   \n",
       "4    False  False  False  True  False  False  False  False  False  False  ...   \n",
       "..     ...    ...    ...   ...    ...    ...    ...    ...    ...    ...  ...   \n",
       "495  False  False  False  True  False  False  False  False  False  False  ...   \n",
       "496  False  False  False  True  False  False  False  False  False  False  ...   \n",
       "497  False  False  False  True  False  False  False  False  False  False  ...   \n",
       "498  False  False  False  True  False  False  False  False  False  False  ...   \n",
       "499  False  False  False  True  False  False  False  False  False  False  ...   \n",
       "\n",
       "       rmk  bird-seen  animal-seen  playback-used  temp  regnr   auto   dvc  \\\n",
       "0    False      False        False          False  True   True  False  True   \n",
       "1    False      False        False          False  True   True  False  True   \n",
       "2     True      False        False          False  True   True  False  True   \n",
       "3     True      False        False          False  True   True  False  True   \n",
       "4     True      False        False          False  True   True  False  True   \n",
       "..     ...        ...          ...            ...   ...    ...    ...   ...   \n",
       "495  False      False        False          False  True   True  False  True   \n",
       "496   True      False        False          False  True   True  False  True   \n",
       "497   True      False        False          False  True   True  False  True   \n",
       "498   True      False        False          False  True   True  False  True   \n",
       "499  False      False        False          False  True   True  False  True   \n",
       "\n",
       "      mic    smp  \n",
       "0    True  False  \n",
       "1    True  False  \n",
       "2    True  False  \n",
       "3    True  False  \n",
       "4    True  False  \n",
       "..    ...    ...  \n",
       "495  True  False  \n",
       "496  True  False  \n",
       "497  True  False  \n",
       "498  True  False  \n",
       "499  True  False  \n",
       "\n",
       "[500 rows x 38 columns]"
      ]
     },
     "execution_count": 3,
     "metadata": {},
     "output_type": "execute_result"
    }
   ],
   "source": [
    "# check null columns\n",
    "df.isnull()"
   ]
  },
  {
   "cell_type": "code",
   "execution_count": 4,
   "metadata": {},
   "outputs": [
    {
     "data": {
      "text/plain": [
       "array(['Peru', 'Bolivia', 'Argentina', 'Papua New Guinea', 'New Zealand',\n",
       "       'Uruguay', 'Brazil', 'Paraguay', 'Australia', 'Indonesia',\n",
       "       'Zambia', 'South Africa', 'Senegal', 'India', 'Thailand', 'China',\n",
       "       'Mongolia', 'Russian Federation', 'South Korea', 'Japan',\n",
       "       'Cambodia', 'United States', 'Ecuador', 'Colombia', 'Venezuela',\n",
       "       'Costa Rica', 'Honduras', 'El Salvador', 'Nicaragua', 'Panama',\n",
       "       'Mexico', 'Guatemala'], dtype=object)"
      ]
     },
     "execution_count": 4,
     "metadata": {},
     "output_type": "execute_result"
    }
   ],
   "source": [
    "df['cnt'].unique()"
   ]
  },
  {
   "cell_type": "code",
   "execution_count": 5,
   "metadata": {},
   "outputs": [
    {
     "data": {
      "text/plain": [
       "Index(['id', 'gen', 'sp', 'ssp', 'group', 'en', 'rec', 'cnt', 'loc', 'lat',\n",
       "       'lng', 'alt', 'type', 'sex', 'stage', 'method', 'url', 'file',\n",
       "       'file-name', 'sono', 'osci', 'lic', 'q', 'length', 'time', 'date',\n",
       "       'uploaded', 'also', 'rmk', 'bird-seen', 'animal-seen', 'playback-used',\n",
       "       'temp', 'regnr', 'auto', 'dvc', 'mic', 'smp'],\n",
       "      dtype='object')"
      ]
     },
     "execution_count": 5,
     "metadata": {},
     "output_type": "execute_result"
    }
   ],
   "source": [
    "df.columns"
   ]
  },
  {
   "cell_type": "code",
   "execution_count": 6,
   "metadata": {},
   "outputs": [
    {
     "data": {
      "text/plain": [
       "0"
      ]
     },
     "execution_count": 6,
     "metadata": {},
     "output_type": "execute_result"
    }
   ],
   "source": [
    "df['url'].isnull().sum()"
   ]
  },
  {
   "cell_type": "code",
   "execution_count": 7,
   "metadata": {},
   "outputs": [
    {
     "data": {
      "text/plain": [
       "array(['call, song', 'song', 'call', 'rattle', 'duet, song', 'duet',\n",
       "       'alarm (take off)', 'alarm call', 'song, song a',\n",
       "       'call, flight call, call & flight call', 'fligth', '?',\n",
       "       'flight call', 'flight call, water lapping',\n",
       "       'flight call, caco frog', 'alarm call, call',\n",
       "       'wings flapping sound', 'takeoff noise', 'wingbeats', 'call, duet',\n",
       "       'canto', 'call, song, call and song', 'alarm call, alarm calls',\n",
       "       'call, calls', 'call, alternate call', 'song?',\n",
       "       'call, song, calls. song.', 'chorus', 'flock', 'call, ?',\n",
       "       'dawn chorus', 'song, duet?', 'uncertain', 'call, allarm calls',\n",
       "       'call, song, calls', 'call, aggression calls', 'alarm call?',\n",
       "       'call, calls. wing whirrs.',\n",
       "       'alarm call, alarm calls, wing sounds',\n",
       "       'alarm call, agitated alarm calls', 'call, wing sound',\n",
       "       'wing whirr', 'begging call', 'call, agitated calls',\n",
       "       'call, contact calls',\n",
       "       'call, song, contact calls and song by a pair', 'dawn song, song',\n",
       "       'empoleirando', 'call, contact call', 'song, variation song',\n",
       "       'duet, song, duet song'], dtype=object)"
      ]
     },
     "execution_count": 7,
     "metadata": {},
     "output_type": "execute_result"
    }
   ],
   "source": [
    "df['type'].unique()"
   ]
  },
  {
   "cell_type": "markdown",
   "metadata": {},
   "source": [
    "# unique species"
   ]
  },
  {
   "cell_type": "code",
   "execution_count": 8,
   "metadata": {},
   "outputs": [
    {
     "name": "stdout",
     "output_type": "stream",
     "text": [
      "There are 16 unique bird species in the dataset.\n"
     ]
    }
   ],
   "source": [
    "print(\"There are {:,} unique bird species in the dataset.\".format(len(df['sp'].unique())))"
   ]
  },
  {
   "cell_type": "markdown",
   "metadata": {},
   "source": [
    "## Time of recording\n",
    "📌Note: Majority of the data was registered between 2013 and 2019, during the months january upto december\n"
   ]
  },
  {
   "cell_type": "code",
   "execution_count": 9,
   "metadata": {},
   "outputs": [],
   "source": [
    "# Create some time features by spliting the column for date\n",
    "df['year'] = df['date'].apply(lambda x: x.split('-')[0])\n",
    "df['month'] = df['date'].apply(lambda x: x.split('-')[1])\n",
    "df['day_of_month'] = df['date'].apply(lambda x: x.split('-')[2])"
   ]
  },
  {
   "cell_type": "code",
   "execution_count": 10,
   "metadata": {},
   "outputs": [
    {
     "data": {
      "text/plain": [
       "0      07\n",
       "1      12\n",
       "2      06\n",
       "3      06\n",
       "4      08\n",
       "       ..\n",
       "495    04\n",
       "496    05\n",
       "497    05\n",
       "498    05\n",
       "499    03\n",
       "Name: month, Length: 500, dtype: object"
      ]
     },
     "execution_count": 10,
     "metadata": {},
     "output_type": "execute_result"
    }
   ],
   "source": [
    "df['month']"
   ]
  },
  {
   "cell_type": "code",
   "execution_count": 11,
   "metadata": {},
   "outputs": [
    {
     "data": {
      "image/png": "[encoded data removed]",
      "text/plain": [
       "<Figure size 1600x600 with 1 Axes>"
      ]
     },
     "metadata": {},
     "output_type": "display_data"
    }
   ],
   "source": [
    "# crerate count plots for  audio files and the year they were created\n",
    "plt.figure(figsize=(16, 6))\n",
    "sns.countplot(data=df, x='year', palette=\"hls\")\n",
    "\n",
    "plt.title(\"Audio Files Registration per Year Made\", fontsize=16)\n",
    "plt.xticks(rotation=90, fontsize=13)\n",
    "plt.yticks(fontsize=13)\n",
    "plt.ylabel(\"Frequency\", fontsize=14)\n",
    "plt.xlabel(\"\")\n",
    "plt.show()"
   ]
  },
  {
   "cell_type": "code",
   "execution_count": 12,
   "metadata": {},
   "outputs": [
    {
     "data": {
      "image/png": "[encoded data removed]",
      "text/plain": [
       "<Figure size 1600x600 with 1 Axes>"
      ]
     },
     "metadata": {},
     "output_type": "display_data"
    }
   ],
   "source": [
    "# crerate count plots for  audio files and the month they were created\n",
    "plt.figure(figsize=(16, 6))\n",
    "sns.countplot(data=df, x='month', palette=\"hls\")\n",
    "\n",
    "plt.title(\"Audio Files Registration per month Made\", fontsize=16)\n",
    "plt.xticks(rotation=90, fontsize=13)\n",
    "plt.yticks(fontsize=13)\n",
    "plt.ylabel(\"Frequency\", fontsize=14)\n",
    "plt.xlabel(\"\")\n",
    "plt.show()"
   ]
  },
  {
   "cell_type": "markdown",
   "metadata": {},
   "source": [
    "## type column\n",
    "📌Note: This column is a bit messy, as the same description can be found under multiple names. Also, there can be multiple descriptions for multiple sounds (one bird song can mean a different thing from another one in the same recording). Some examples are:\n",
    "\n",
    "alarm call is: alarm call | alarm call, call\n",
    "flight call is: flight call | call, flight call etc."
   ]
  },
  {
   "cell_type": "code",
   "execution_count": 47,
   "metadata": {},
   "outputs": [],
   "source": [
    "# Create a new variable type by exploding all the values\n",
    "adjusted_type =df['type'].apply(lambda x: x.split(',')).reset_index().explode(\"type\")\n",
    "\n",
    "# Strip of white spaces and convert to lower chars\n",
    "adjusted_type = adjusted_type['type'].apply(lambda x: x.strip().lower()).reset_index()\n",
    "adjusted_type['type'] = adjusted_type['type'].replace(['calls', '?'], 'call')\n",
    "\n",
    "# Replace unwanted values with appropriate categorical values\n",
    "adjusted_type['type'] = adjusted_type['type'].replace(['calls', '?', 'fligth'], 'call')\n",
    "\n"
   ]
  },
  {
   "cell_type": "code",
   "execution_count": 48,
   "metadata": {},
   "outputs": [
    {
     "data": {
      "text/plain": [
       "['song',\n",
       " 'call',\n",
       " 'alarm call',\n",
       " 'flight call',\n",
       " 'duet',\n",
       " 'dawn chorus',\n",
       " 'song?',\n",
       " 'chorus',\n",
       " 'alarm calls',\n",
       " 'duet?',\n",
       " 'contact call',\n",
       " 'canto',\n",
       " 'rattle',\n",
       " 'uncertain',\n",
       " 'wing sound']"
      ]
     },
     "execution_count": 48,
     "metadata": {},
     "output_type": "execute_result"
    }
   ],
   "source": [
    "adjusted_type['type'].unique()\n",
    "top_15 = list(adjusted_type['type'].value_counts().head(15).reset_index()['index'])\n",
    "top_15"
   ]
  },
  {
   "cell_type": "markdown",
   "metadata": {},
   "source": [
    "### create count plots for the types of songs "
   ]
  },
  {
   "cell_type": "code",
   "execution_count": 50,
   "metadata": {},
   "outputs": [
    {
     "data": {
      "image/png": "[encoded data removed]",
      "text/plain": [
       "<Figure size 1200x600 with 1 Axes>"
      ]
     },
     "metadata": {},
     "output_type": "display_data"
    }
   ],
   "source": [
    "# Replace unwanted values with appropriate categorical values\n",
    "adjusted_type['type'] = adjusted_type['type'].replace(['calls', '?', 'fligth'], 'call')\n",
    "\n",
    "# Create Top 15 list with song types\n",
    "top_15 = list(adjusted_type['type'].value_counts().head(15).index)\n",
    "\n",
    "# Filter the data for only the top 15 song types\n",
    "data = adjusted_type[adjusted_type['type'].isin(top_15)]\n",
    "\n",
    "# Plot the barplot\n",
    "plt.figure(figsize=(12, 6))\n",
    "ax = sns.barplot(x=data['type'], y=data.index, palette=\"hls\")\n",
    "plt.title(\"Top 15 Song Types\", fontsize=16)\n",
    "plt.xticks(rotation=90, fontsize=12)\n",
    "plt.yticks(fontsize=12)\n",
    "plt.ylabel(\"Frequency\", fontsize=14)\n",
    "plt.xlabel(\"Song Type\", fontsize=14)\n",
    "plt.show()\n",
    "\n",
    "\n"
   ]
  },
  {
   "cell_type": "code",
   "execution_count": 45,
   "metadata": {},
   "outputs": [
    {
     "data": {
      "text/plain": [
       "array(['call', 'song', 'rattle', 'duet', 'alarm call', 'flight call',\n",
       "       'canto', 'alarm calls', 'song?', 'chorus', 'dawn chorus', 'duet?',\n",
       "       'uncertain', 'wing sound', 'contact call'], dtype=object)"
      ]
     },
     "execution_count": 45,
     "metadata": {},
     "output_type": "execute_result"
    }
   ],
   "source": [
    "data['type'].unique()"
   ]
  },
  {
   "cell_type": "markdown",
   "metadata": {},
   "source": [
    "## countries from which the birds were taken\n",
    "📌Note: Let's look at top 15 countries with most recordings. The majority of recordings are located in the mexico, followed by panama and costa rica."
   ]
  },
  {
   "cell_type": "code",
   "execution_count": 22,
   "metadata": {},
   "outputs": [
    {
     "data": {
      "text/plain": [
       "['Brazil',\n",
       " 'Peru',\n",
       " 'Colombia',\n",
       " 'Ecuador',\n",
       " 'Argentina',\n",
       " 'India',\n",
       " 'Bolivia',\n",
       " 'Honduras',\n",
       " 'Costa Rica',\n",
       " 'Paraguay',\n",
       " 'New Zealand',\n",
       " 'South Africa',\n",
       " 'Panama',\n",
       " 'Russian Federation',\n",
       " 'Mexico']"
      ]
     },
     "execution_count": 22,
     "metadata": {},
     "output_type": "execute_result"
    }
   ],
   "source": [
    "# Top 15 most common elevations\n",
    "top_15_countries = list(df['cnt'].value_counts().head(15).index)\n",
    "countries = df[df['cnt'].isin(top_15_countries)]\n",
    "top_15_countries"
   ]
  },
  {
   "cell_type": "code",
   "execution_count": 23,
   "metadata": {},
   "outputs": [
    {
     "data": {
      "image/png": "[encoded data removed]",
      "text/plain": [
       "<Figure size 1200x600 with 1 Axes>"
      ]
     },
     "metadata": {},
     "output_type": "display_data"
    }
   ],
   "source": [
    "countries = countries.sort_values('cnt', ascending=False)\n",
    "\n",
    "plt.figure(figsize=(12, 6))\n",
    "ax = sns.barplot(x=countries['cnt'], y=countries.index, palette=\"hls\")\n",
    "plt.title(\"Top 15 bird countries\", fontsize=16)\n",
    "plt.xticks(rotation=90, fontsize=12)\n",
    "plt.yticks(fontsize=12)\n",
    "plt.ylabel(\"Country\", fontsize=14)\n",
    "plt.xlabel(\"Frequency\", fontsize=14)\n",
    "plt.show()\n"
   ]
  },
  {
   "cell_type": "code",
   "execution_count": null,
   "metadata": {},
   "outputs": [],
   "source": []
  },
  {
   "cell_type": "markdown",
   "metadata": {},
   "source": [
    "# AUDIO DATA"
   ]
  },
  {
   "cell_type": "markdown",
   "metadata": {},
   "source": [
    "## Data preprocessing\n",
    "For any audio application, it is necessary to import the data that you need to preprocess. In librosa, librosa.load can be integrated to carry on this task. Moreover, at the initial stage, it is important to extract the information of the sound file as samplig rate, duration in s etc."
   ]
  },
  {
   "cell_type": "code",
   "execution_count": null,
   "metadata": {},
   "outputs": [],
   "source": [
    "mating_call = os.path.join(\"bird_sounds\", \"duet_calls\", \"10009.mp3\")\n",
    "mating_call"
   ]
  },
  {
   "cell_type": "code",
   "execution_count": null,
   "metadata": {},
   "outputs": [],
   "source": [
    "ipd.Audio(mating_call)"
   ]
  },
  {
   "cell_type": "code",
   "execution_count": null,
   "metadata": {},
   "outputs": [],
   "source": [
    "#  getting the raw audio features\n",
    "print(\"sampling rate: \", librosa.get_samplerate(mating_call))\n",
    "print(\"Duration: \", librosa.get_duration(filename=mating_call))\n",
    "\n",
    "# import the audio files\n",
    "mating_signal, sampling_rate = librosa.load(mating_call, sr=44100, mono=False)\n",
    "\n",
    "# Shape of features\n",
    "print(\"Shape of Initial Data : \"+ str(mating_signal.shape))"
   ]
  },
  {
   "cell_type": "code",
   "execution_count": null,
   "metadata": {},
   "outputs": [],
   "source": [
    "print(mating_signal)"
   ]
  },
  {
   "cell_type": "code",
   "execution_count": null,
   "metadata": {},
   "outputs": [],
   "source": []
  },
  {
   "cell_type": "markdown",
   "metadata": {
    "tags": []
   },
   "source": [
    "## DATA Visualization\n",
    " ENSURE THAT ALL FILES ARE COMPATIBLE TO THE MODEL\n",
    " "
   ]
  },
  {
   "cell_type": "code",
   "execution_count": null,
   "metadata": {
    "tags": []
   },
   "outputs": [],
   "source": [
    "alarm_call = os.path.join(\"bird_sounds\", \"alarm_calls\", \"2679.mp3\")\n",
    "mating_call = os.path.join(\"bird_sounds\", \"duet_calls\", \"10009.mp3\")\n",
    "other_call = os.path.join(\"bird_sounds\", \"other_calls\", \"10011.mp3\")"
   ]
  },
  {
   "cell_type": "code",
   "execution_count": null,
   "metadata": {},
   "outputs": [],
   "source": [
    "alarm_call\n",
    "mating_call\n",
    "other_call"
   ]
  },
  {
   "cell_type": "code",
   "execution_count": null,
   "metadata": {},
   "outputs": [],
   "source": [
    "ipd.Audio(mating_call)"
   ]
  },
  {
   "cell_type": "code",
   "execution_count": null,
   "metadata": {},
   "outputs": [],
   "source": [
    "ipd.Audio(other_call)"
   ]
  },
  {
   "cell_type": "code",
   "execution_count": null,
   "metadata": {},
   "outputs": [],
   "source": [
    "ipd.Audio(alarm_call)"
   ]
  },
  {
   "cell_type": "code",
   "execution_count": null,
   "metadata": {},
   "outputs": [],
   "source": [
    "alarm_call_y, alarm_call_sr = librosa.load(alarm_call)\n",
    "print(f'y:{alarm_call_y[:10]}')\n",
    "print(f'shape y:{alarm_call_y.shape}')\n",
    "print(f'sr:{alarm_call_sr}')\n",
    "\n",
    "\n"
   ]
  },
  {
   "cell_type": "code",
   "execution_count": null,
   "metadata": {},
   "outputs": [],
   "source": [
    "pd.Series(alarm_call_y)"
   ]
  },
  {
   "cell_type": "code",
   "execution_count": null,
   "metadata": {},
   "outputs": [],
   "source": [
    "# plotting the numpy array of the audio\n",
    "pd.Series(alarm_call_y).plot(figsize = (10, 5), lw=1,                 \n",
    "                             title = \"Alarm call example\")\n",
    "plt.show()"
   ]
  },
  {
   "cell_type": "code",
   "execution_count": null,
   "metadata": {},
   "outputs": [],
   "source": [
    "mating_call_y, mating_call_sr = librosa.load(mating_call)\n",
    "print(f'y:{mating_call_y[:10]}')\n",
    "print(f'shape y:{mating_call_y.shape}')\n",
    "print(f'sr:{mating_call_sr}')"
   ]
  },
  {
   "cell_type": "code",
   "execution_count": null,
   "metadata": {},
   "outputs": [],
   "source": [
    "pd.Series(mating_call_y).plot(figsize = (20, 5), lw=1,\n",
    "                 title = \"mating call example\")\n",
    "plt.show()"
   ]
  },
  {
   "cell_type": "code",
   "execution_count": null,
   "metadata": {},
   "outputs": [],
   "source": [
    "other_call_y, other_call_sr = librosa.load(other_call)\n",
    "print(f'y:{other_call_y[:10]}')\n",
    "print(f'shape y:{other_call_y.shape}')\n",
    "print(f'sr:{other_call_sr}')"
   ]
  },
  {
   "cell_type": "code",
   "execution_count": null,
   "metadata": {},
   "outputs": [],
   "source": [
    "pd.Series(other_call_y).plot(figsize = (10, 5), lw=1,\n",
    "                 title = \"other call example\")\n",
    "plt.show()"
   ]
  },
  {
   "cell_type": "code",
   "execution_count": null,
   "metadata": {},
   "outputs": [],
   "source": [
    "pd.Series(other_call_y[3000:3500]).plot(figsize = (10, 5), lw=1,\n",
    "                 title = \"other call example\")\n",
    "plt.show()"
   ]
  },
  {
   "cell_type": "markdown",
   "metadata": {},
   "source": [
    "Fast Fourier Transformation"
   ]
  },
  {
   "cell_type": "code",
   "execution_count": null,
   "metadata": {},
   "outputs": [],
   "source": []
  },
  {
   "cell_type": "code",
   "execution_count": null,
   "metadata": {},
   "outputs": [],
   "source": []
  },
  {
   "cell_type": "code",
   "execution_count": null,
   "metadata": {},
   "outputs": [],
   "source": []
  },
  {
   "cell_type": "code",
   "execution_count": null,
   "metadata": {},
   "outputs": [],
   "source": []
  },
  {
   "cell_type": "code",
   "execution_count": null,
   "metadata": {},
   "outputs": [],
   "source": []
  },
  {
   "cell_type": "markdown",
   "metadata": {},
   "source": [
    "## spectogramm"
   ]
  },
  {
   "cell_type": "code",
   "execution_count": null,
   "metadata": {},
   "outputs": [],
   "source": [
    "D = librosa.stft(alarm_call_y)\n",
    "s_db = librosa.amplitude_to_db(np.abs(D), ref=np.max)\n",
    "s_db.shape"
   ]
  },
  {
   "cell_type": "code",
   "execution_count": null,
   "metadata": {},
   "outputs": [],
   "source": [
    "fig, ax = plt.subplots(figsize = (10, 5))\n",
    "img = librosa.display.specshow(s_db,\n",
    "                              x_axis = 'time',\n",
    "                              y_axis = 'log',\n",
    "                              ax= ax)"
   ]
  },
  {
   "cell_type": "markdown",
   "metadata": {},
   "source": [
    "## MEL SPECTROGRAM"
   ]
  },
  {
   "cell_type": "code",
   "execution_count": null,
   "metadata": {},
   "outputs": [],
   "source": [
    "S = librosa.feature.melspectrogram(y = alarm_call_y,\n",
    "                                  sr = alarm_call_sr,\n",
    "                                  n_mels = 128,\n",
    "                                  )\n",
    "S_db_mel = librosa.amplitude_to_db(S, ref=np.max)"
   ]
  },
  {
   "cell_type": "code",
   "execution_count": null,
   "metadata": {},
   "outputs": [],
   "source": [
    "fig, ax = plt.subplots(figsize=(10,5))\n",
    "img = librosa.display.specshow(s_db,\n",
    "                              x_axis = 'time',\n",
    "                              y_axis = 'log',\n",
    "                              ax= ax)\n",
    "ax.set_title('Mel spectrogram for alarm call ', fontsize = 20)"
   ]
  },
  {
   "cell_type": "code",
   "execution_count": null,
   "metadata": {},
   "outputs": [],
   "source": []
  },
  {
   "cell_type": "code",
   "execution_count": null,
   "metadata": {},
   "outputs": [],
   "source": []
  }
 ],
 "metadata": {
  "kernelspec": {
   "display_name": "Python 3 (ipykernel)",
   "language": "python",
   "name": "python3"
  },
  "language_info": {
   "codemirror_mode": {
    "name": "ipython",
    "version": 3
   },
   "file_extension": ".py",
   "mimetype": "text/x-python",
   "name": "python",
   "nbconvert_exporter": "python",
   "pygments_lexer": "ipython3",
   "version": "3.10.9"
  }
 },
 "nbformat": 4,
 "nbformat_minor": 4
}
